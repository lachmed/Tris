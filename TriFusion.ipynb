{
  "nbformat": 4,
  "nbformat_minor": 0,
  "metadata": {
    "colab": {
      "name": "TriFusion.ipynb",
      "provenance": [],
      "collapsed_sections": [],
      "authorship_tag": "ABX9TyPc7xP+iwqR4NXhW6KR+VC+",
      "include_colab_link": true
    },
    "kernelspec": {
      "name": "python3",
      "display_name": "Python 3"
    },
    "language_info": {
      "name": "python"
    }
  },
  "cells": [
    {
      "cell_type": "markdown",
      "metadata": {
        "id": "view-in-github",
        "colab_type": "text"
      },
      "source": [
        "<a href=\"https://colab.research.google.com/github/lachmed/Tris/blob/master/TriFusion.ipynb\" target=\"_parent\"><img src=\"https://colab.research.google.com/assets/colab-badge.svg\" alt=\"Open In Colab\"/></a>"
      ]
    },
    {
      "cell_type": "code",
      "execution_count": null,
      "metadata": {
        "colab": {
          "base_uri": "https://localhost:8080/"
        },
        "id": "qZXlqA8njlkZ",
        "outputId": "36957fc9-5da0-4150-a153-6c9003c503ff"
      },
      "outputs": [
        {
          "output_type": "stream",
          "name": "stdout",
          "text": [
            "T [3]\n"
          ]
        }
      ],
      "source": [
        "def Merge(T,d,m,f):\n",
        "  res = []\n",
        "  \n",
        "  if f<=d :\n",
        "    return\n",
        "  \n",
        "  if T[d] < T[m+1]:\n",
        "    departi=d \n",
        "    fini=m\n",
        "    departj=fini+1\n",
        "    finj=f\n",
        "  else:\n",
        "    departi=m+1\n",
        "    fini=f\n",
        "    departj=d\n",
        "    finj=m\n",
        "\n",
        "\n",
        "\n",
        "  res.append(T[departi])\n",
        "  i = departi+1\n",
        "  finnished = False\n",
        "  while(i<=fini):\n",
        "    if not finnished :\n",
        "      for j in range(departj,finj+1):\n",
        "        if T[i] < T[j]:\n",
        "          break\n",
        "        else:\n",
        "          res.append(T[j])\n",
        "          print(\"res\",res,\"j\",j)\n",
        "          if j==finj:\n",
        "            finnished = True\n",
        "\n",
        "\n",
        "    res.append(T[i])\n",
        "    print(\"res\",res,\"i\",i)\n",
        "    i+=1\n",
        "  T[:] = res\n",
        "\n",
        "\n",
        "def MergeSort"
      ]
    }
  ]
}